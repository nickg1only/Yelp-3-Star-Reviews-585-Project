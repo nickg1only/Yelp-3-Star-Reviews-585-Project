{
 "cells": [
  {
   "cell_type": "code",
   "execution_count": 8,
   "metadata": {
    "collapsed": true
   },
   "outputs": [],
   "source": [
    "review_json = \"../Yelp_dataset/review.json\"\n",
    "business_json = \"../Yelp_dataset/business.json\""
   ]
  },
  {
   "cell_type": "code",
   "execution_count": 9,
   "metadata": {},
   "outputs": [],
   "source": [
    "import ParseYelpData as pyd;\n",
    "reload(pyd);"
   ]
  },
  {
   "cell_type": "code",
   "execution_count": null,
   "metadata": {
    "collapsed": true
   },
   "outputs": [],
   "source": [
    "#count = 0\n",
    "#for business_id in pyd.stream_business_ids(business_json):\n",
    "#    count += 1\n",
    "#print count\n",
    "\n",
    "# Prints the number of businesses"
   ]
  },
  {
   "cell_type": "code",
   "execution_count": null,
   "metadata": {
    "collapsed": true
   },
   "outputs": [],
   "source": [
    "#count = 0\n",
    "#business_ids = []\n",
    "#for business_id in pyd.stream_business_ids(business_json):\n",
    "#    if count > 4:\n",
    "#        break\n",
    "#    count += 1\n",
    "#    business_ids.append(business_id)\n",
    "#print business_ids"
   ]
  },
  {
   "cell_type": "code",
   "execution_count": null,
   "metadata": {
    "collapsed": true
   },
   "outputs": [],
   "source": [
    "#business_id = business_ids[0]\n",
    "#print business_id\n",
    "#count = 0\n",
    "#for review in pyd.stream_reviews_by_business_id(review_json, business_id):\n",
    "#    if count > 2:\n",
    "#        break\n",
    "#    print review\n",
    "#    print \"\"\n",
    "#    count += 1"
   ]
  },
  {
   "cell_type": "code",
   "execution_count": null,
   "metadata": {
    "collapsed": true
   },
   "outputs": [],
   "source": []
  }
 ],
 "metadata": {
  "kernelspec": {
   "display_name": "Python 2",
   "language": "python",
   "name": "python2"
  },
  "language_info": {
   "codemirror_mode": {
    "name": "ipython",
    "version": 2
   },
   "file_extension": ".py",
   "mimetype": "text/x-python",
   "name": "python",
   "nbconvert_exporter": "python",
   "pygments_lexer": "ipython2",
   "version": "2.7.13"
  }
 },
 "nbformat": 4,
 "nbformat_minor": 2
}

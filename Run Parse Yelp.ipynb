{
 "cells": [
  {
   "cell_type": "code",
   "execution_count": 1,
   "metadata": {
    "collapsed": true
   },
   "outputs": [],
   "source": [
    "review_json = \"../Yelp_dataset/review.json\"\n",
    "business_json = \"../Yelp_dataset/business.json\""
   ]
  },
  {
   "cell_type": "code",
   "execution_count": 3,
   "metadata": {
    "collapsed": true
   },
   "outputs": [],
   "source": [
    "import ParseYelpData as pyd;\n",
    "reload(ParseYelpData);"
   ]
  },
  {
   "cell_type": "code",
   "execution_count": 6,
   "metadata": {},
   "outputs": [
    {
     "name": "stdout",
     "output_type": "stream",
     "text": [
      "23014\n"
     ]
    }
   ],
   "source": [
    "#count = 0\n",
    "#for business_id in pyd.stream_business_ids(business_json):\n",
    "#    count += 1\n",
    "#print count\n",
    "\n",
    "# Prints the number of businesses"
   ]
  },
  {
   "cell_type": "code",
   "execution_count": 7,
   "metadata": {},
   "outputs": [
    {
     "name": "stdout",
     "output_type": "stream",
     "text": [
      "[u'mLwM-h2YhXl2NCgdS84_Bw', u'v2WhjAB3PIBA8J8VxG3wEg', u'n33Izvzk_z9_51H6NsQF-A', u'1cLXGXThDYZ5WK_KpBLtkw', u'L1XHTn7S-6har9UGAPjcWQ']\n"
     ]
    }
   ],
   "source": [
    "count = 0\n",
    "business_ids = []\n",
    "for business_id in pyd.stream_business_ids(business_json):\n",
    "    if count > 4:\n",
    "        break\n",
    "    count += 1\n",
    "    business_ids.append(business_id)\n",
    "print business_ids"
   ]
  },
  {
   "cell_type": "code",
   "execution_count": null,
   "metadata": {
    "collapsed": true
   },
   "outputs": [],
   "source": []
  }
 ],
 "metadata": {
  "kernelspec": {
   "display_name": "Python 2",
   "language": "python",
   "name": "python2"
  },
  "language_info": {
   "codemirror_mode": {
    "name": "ipython",
    "version": 2
   },
   "file_extension": ".py",
   "mimetype": "text/x-python",
   "name": "python",
   "nbconvert_exporter": "python",
   "pygments_lexer": "ipython2",
   "version": "2.7.13"
  }
 },
 "nbformat": 4,
 "nbformat_minor": 2
}

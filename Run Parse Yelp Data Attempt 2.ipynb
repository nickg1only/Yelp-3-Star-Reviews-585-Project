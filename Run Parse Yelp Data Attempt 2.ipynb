{
 "cells": [
  {
   "cell_type": "code",
   "execution_count": 49,
   "metadata": {},
   "outputs": [
    {
     "data": {
      "text/plain": [
       "<module 'ParseYelpDataAttempt2' from 'ParseYelpDataAttempt2.py'>"
      ]
     },
     "execution_count": 49,
     "metadata": {},
     "output_type": "execute_result"
    }
   ],
   "source": [
    "import ParseYelpDataAttempt2 as pyda2\n",
    "reload(pyda2)"
   ]
  },
  {
   "cell_type": "code",
   "execution_count": 12,
   "metadata": {},
   "outputs": [
    {
     "data": {
      "text/plain": [
       "<module 'DownloadYelpData' from 'DownloadYelpData.pyc'>"
      ]
     },
     "execution_count": 12,
     "metadata": {},
     "output_type": "execute_result"
    }
   ],
   "source": [
    "import DownloadYelpData as dyd\n",
    "reload(dyd)"
   ]
  },
  {
   "cell_type": "code",
   "execution_count": 30,
   "metadata": {},
   "outputs": [],
   "source": [
    "all_reviews = dyd.download_reviews()"
   ]
  },
  {
   "cell_type": "code",
   "execution_count": 14,
   "metadata": {
    "collapsed": true
   },
   "outputs": [],
   "source": [
    "all_businesses = dyd.download_businesses()"
   ]
  },
  {
   "cell_type": "code",
   "execution_count": 21,
   "metadata": {},
   "outputs": [
    {
     "name": "stdout",
     "output_type": "stream",
     "text": [
      "YDf95gJZaq05wvo7hTQbbQ\n"
     ]
    }
   ],
   "source": [
    "pyda2.print_business_ids(0,1,all_businesses)"
   ]
  },
  {
   "cell_type": "code",
   "execution_count": 41,
   "metadata": {
    "collapsed": true
   },
   "outputs": [],
   "source": [
    "for review in pyda2.neut_reviews_by_business_id(700,1000,all_reviews,\"YDf95gJZaq05wvo7hTQbbQ\"):\n",
    "    print review\n",
    "    print \"\""
   ]
  },
  {
   "cell_type": "code",
   "execution_count": 50,
   "metadata": {},
   "outputs": [
    {
     "name": "stdout",
     "output_type": "stream",
     "text": [
      "0\n"
     ]
    }
   ],
   "source": [
    "print len(pyda2.reviews_by_business_id(0,10,all_reviews,\"YDf95gJZaq05wvo7hTQbbQ\"))"
   ]
  },
  {
   "cell_type": "code",
   "execution_count": 51,
   "metadata": {},
   "outputs": [
    {
     "name": "stdout",
     "output_type": "stream",
     "text": [
      "{u'funny': 0, u'user_id': u'cjpdDjZyprfyDG3RlkVG3w', u'review_id': u'VfBHSwC5Vz_pbFluy07i9Q', u'text': u'My girlfriend and I stayed here for 3 nights and loved it. The location of this hotel and very decent price makes this an amazing deal. When you walk out the front door Scott Monument and Princes street are right in front of you, Edinburgh Castle and the Royal Mile is a 2 minute walk via a close right around the corner, and there are so many hidden gems nearby including Calton Hill and the newly opened Arches that made this location incredible.\\n\\nThe hotel itself was also very nice with a reasonably priced bar, very considerate staff, and small but comfortable rooms with excellent bathrooms and showers. Only two minor complaints are no telephones in room for room service (not a huge deal for us) and no AC in the room, but they have huge windows which can be fully opened. The staff were incredible though, letting us borrow umbrellas for the rain, giving us maps and directions, and also when we had lost our only UK adapter for charging our phones gave us a very fancy one for free.\\n\\nI would highly recommend this hotel to friends, and when I return to Edinburgh (which I most definitely will) I will be staying here without any hesitation.', u'business_id': u'uYHaNptLzDLoV_JZ_MuzUA', u'stars': 5, u'date': u'2016-07-12', u'useful': 0, u'cool': 0}\n",
      "\n",
      "{u'funny': 0, u'user_id': u'bjTcT8Ty4cJZhEOEo01FGA', u'review_id': u'3zRpneRKDsOPq92tq7ybAA', u'text': u\"If you need an inexpensive place to stay for a night or two then you may consider this place but for a longer stay I'd recommend somewhere with better amenities. \\n\\nPros:\\nGreat location- you're right by the train station, central location to get to old town and new town, and right by sight seeing his tours. Food, bars, and shopping all within walking distance. Location, location, location.\\nVery clean and very good maid service\\n\\nCons:\\nTiny rooms \\nUncomfortable bed \\nAbsolutely no amenities \\nNo phone in room \\nNo wardrobe \\n\\nWas given a lot of attitude about me and my husband sharing a room which was quite strange and we were charged 15 pounds more for double occupancy not sure why that matters I felt like it was a money grab. It was just handled in a kind of odd manner to me... \\n\\nIf you book this hotel all you get is a bed, desk, and a bathroom. It isn't awful but know what you're getting into.\", u'business_id': u'uYHaNptLzDLoV_JZ_MuzUA', u'stars': 3, u'date': u'2016-10-02', u'useful': 0, u'cool': 0}\n",
      "\n"
     ]
    }
   ],
   "source": [
    "for review in pyda2.parsed_reviews(0,2,all_reviews):\n",
    "    print review\n",
    "    print \"\""
   ]
  },
  {
   "cell_type": "code",
   "execution_count": null,
   "metadata": {
    "collapsed": true
   },
   "outputs": [],
   "source": []
  }
 ],
 "metadata": {
  "kernelspec": {
   "display_name": "Python 2",
   "language": "python",
   "name": "python2"
  }
 },
 "nbformat": 4,
 "nbformat_minor": 2
}
